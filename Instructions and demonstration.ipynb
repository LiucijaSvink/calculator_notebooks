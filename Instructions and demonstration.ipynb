{
  "nbformat": 4,
  "nbformat_minor": 0,
  "metadata": {
    "colab": {
      "name": "Copy of calculator.ipynb",
      "provenance": [],
      "collapsed_sections": [],
      "include_colab_link": true
    },
    "kernelspec": {
      "name": "python3",
      "display_name": "Python 3"
    },
    "language_info": {
      "name": "python"
    }
  },
  "cells": [
    {
      "cell_type": "markdown",
      "metadata": {
        "id": "view-in-github",
        "colab_type": "text"
      },
      "source": [
        "<a href=\"https://colab.research.google.com/github/LiucijaSvink/calculator_notebooks/blob/main/Instructions%20and%20demonstration.ipynb\" target=\"_parent\"><img src=\"https://colab.research.google.com/assets/colab-badge.svg\" alt=\"Open In Colab\"/></a>"
      ]
    },
    {
      "cell_type": "markdown",
      "metadata": {
        "id": "d5JFlkSGpTDG"
      },
      "source": [
        "# Instructions and demonstration of calculator\n",
        "\n",
        "## Installation\n",
        "\n",
        "To install the calculator package use !pip command as illustrated below."
      ]
    },
    {
      "cell_type": "code",
      "metadata": {
        "id": "OfDg5Y_cjMyj",
        "colab": {
          "base_uri": "https://localhost:8080/"
        },
        "outputId": "952efc2d-8eb8-4223-a6a9-2ab55c9b750e"
      },
      "source": [
        "!pip install git+https://github.com/LiucijaSvink/calculator.git"
      ],
      "execution_count": null,
      "outputs": [
        {
          "output_type": "stream",
          "name": "stdout",
          "text": [
            "Collecting git+https://github.com/LiucijaSvink/calculator.git\n",
            "  Cloning https://github.com/LiucijaSvink/calculator.git to /tmp/pip-req-build-783duuxr\n",
            "  Running command git clone -q https://github.com/LiucijaSvink/calculator.git /tmp/pip-req-build-783duuxr\n",
            "Requirement already satisfied: typing in /usr/local/lib/python3.7/dist-packages (from calculator==0.0.1) (3.7.4.3)\n",
            "Requirement already satisfied: pytest in /usr/local/lib/python3.7/dist-packages (from calculator==0.0.1) (3.6.4)\n",
            "Requirement already satisfied: setuptools in /usr/local/lib/python3.7/dist-packages (from pytest->calculator==0.0.1) (57.4.0)\n",
            "Requirement already satisfied: py>=1.5.0 in /usr/local/lib/python3.7/dist-packages (from pytest->calculator==0.0.1) (1.10.0)\n",
            "Requirement already satisfied: attrs>=17.4.0 in /usr/local/lib/python3.7/dist-packages (from pytest->calculator==0.0.1) (21.2.0)\n",
            "Requirement already satisfied: pluggy<0.8,>=0.5 in /usr/local/lib/python3.7/dist-packages (from pytest->calculator==0.0.1) (0.7.1)\n",
            "Requirement already satisfied: six>=1.10.0 in /usr/local/lib/python3.7/dist-packages (from pytest->calculator==0.0.1) (1.15.0)\n",
            "Requirement already satisfied: more-itertools>=4.0.0 in /usr/local/lib/python3.7/dist-packages (from pytest->calculator==0.0.1) (8.10.0)\n",
            "Requirement already satisfied: atomicwrites>=1.0 in /usr/local/lib/python3.7/dist-packages (from pytest->calculator==0.0.1) (1.4.0)\n"
          ]
        }
      ]
    },
    {
      "cell_type": "markdown",
      "metadata": {
        "id": "dKXr-XjdofmU"
      },
      "source": [
        "Once installed, the conventional module import procedure can be used to import the Calculator."
      ]
    },
    {
      "cell_type": "code",
      "metadata": {
        "id": "1TPUhdeiof1R"
      },
      "source": [
        "from calculator import Calculator"
      ],
      "execution_count": null,
      "outputs": []
    },
    {
      "cell_type": "markdown",
      "metadata": {
        "id": "aehUMf6DqPZr"
      },
      "source": [
        "## Demonstration\n",
        "\n",
        "To initialize the calculator, call class Calculator."
      ]
    },
    {
      "cell_type": "code",
      "metadata": {
        "id": "D_zAMaWuogHo"
      },
      "source": [
        "calculator = Calculator()"
      ],
      "execution_count": null,
      "outputs": []
    },
    {
      "cell_type": "markdown",
      "metadata": {
        "id": "eT_iP6rEqlwU"
      },
      "source": [
        "The default value of the calculator will be 0. You can also specify a number in the parentheses when starting calculator. It will be taken as a first number to perform subsequent operations on. "
      ]
    },
    {
      "cell_type": "code",
      "metadata": {
        "id": "cd6OPQGSqrZO"
      },
      "source": [
        "second_calculator = Calculator(6)"
      ],
      "execution_count": null,
      "outputs": []
    },
    {
      "cell_type": "markdown",
      "metadata": {
        "id": "QB93tk5Tq4U-"
      },
      "source": [
        "The calculator can perform the following functions: \n",
        "- add\n",
        "- subtract\n",
        "- multiply\n",
        "- divide\n",
        "- take an nth root of the number (root). \n",
        "\n",
        "To perform an operation, call the corresponding function name and include a real number for operations in the parentheses."
      ]
    },
    {
      "cell_type": "code",
      "metadata": {
        "colab": {
          "base_uri": "https://localhost:8080/"
        },
        "id": "NkfK1cGrrNdB",
        "outputId": "8b5a80b0-9699-4790-c4a9-8aeeb7f640a1"
      },
      "source": [
        "calculator.add(3)"
      ],
      "execution_count": null,
      "outputs": [
        {
          "output_type": "execute_result",
          "data": {
            "text/plain": [
              "3"
            ]
          },
          "metadata": {},
          "execution_count": 24
        }
      ]
    },
    {
      "cell_type": "markdown",
      "metadata": {
        "id": "b7hnwvWGrWLa"
      },
      "source": [
        "Calculator also has an internal memory. This means that the result of previous operation will be taken as first value for the next operation. For example:"
      ]
    },
    {
      "cell_type": "code",
      "metadata": {
        "colab": {
          "base_uri": "https://localhost:8080/"
        },
        "id": "kfl-Woj3rcgz",
        "outputId": "ba50d6f2-5a13-435b-d6f7-8e5233215c28"
      },
      "source": [
        "calculator.multiply(4)"
      ],
      "execution_count": null,
      "outputs": [
        {
          "output_type": "execute_result",
          "data": {
            "text/plain": [
              "12"
            ]
          },
          "metadata": {},
          "execution_count": 25
        }
      ]
    },
    {
      "cell_type": "markdown",
      "metadata": {
        "id": "-NMrygLortFx"
      },
      "source": [
        "In this case, the addition outcome 3 is multiply by 4. Hence, the result is 12. To inspect the value currently in the memory, enter:"
      ]
    },
    {
      "cell_type": "code",
      "metadata": {
        "colab": {
          "base_uri": "https://localhost:8080/"
        },
        "id": "bGxu07NirrjV",
        "outputId": "1b035b0b-a73b-4a10-e0b7-f86e28b7a47e"
      },
      "source": [
        "calculator.display"
      ],
      "execution_count": null,
      "outputs": [
        {
          "output_type": "stream",
          "name": "stdout",
          "text": [
            "12\n"
          ]
        }
      ]
    },
    {
      "cell_type": "markdown",
      "metadata": {
        "id": "le-dsYkprz1w"
      },
      "source": [
        "To reset memory to a specific value, use a command reset. Default reset value is 0."
      ]
    },
    {
      "cell_type": "code",
      "metadata": {
        "colab": {
          "base_uri": "https://localhost:8080/"
        },
        "id": "UgVkXDdhr54n",
        "outputId": "67719aa2-a8d1-4d5d-95df-c65c9aca5bca"
      },
      "source": [
        "calculator.reset(98)"
      ],
      "execution_count": null,
      "outputs": [
        {
          "output_type": "execute_result",
          "data": {
            "text/plain": [
              "98"
            ]
          },
          "metadata": {},
          "execution_count": 27
        }
      ]
    },
    {
      "cell_type": "code",
      "metadata": {
        "colab": {
          "base_uri": "https://localhost:8080/"
        },
        "id": "eLGPVpa-smqR",
        "outputId": "04b7483e-e75d-4fcb-bebe-1b27b375439c"
      },
      "source": [
        "calculator.reset()"
      ],
      "execution_count": null,
      "outputs": [
        {
          "output_type": "execute_result",
          "data": {
            "text/plain": [
              "0"
            ]
          },
          "metadata": {},
          "execution_count": 28
        }
      ]
    },
    {
      "cell_type": "markdown",
      "metadata": {
        "id": "lxeB1ahQsIuk"
      },
      "source": [
        "The calculator input can be one number: integer, float or complex number. Other types of input will raise errors.\n"
      ]
    },
    {
      "cell_type": "code",
      "metadata": {
        "colab": {
          "base_uri": "https://localhost:8080/"
        },
        "id": "VcgzjDp1sIXx",
        "outputId": "4edf0a8f-4c81-4d84-e138-2a299b52e495"
      },
      "source": [
        "calculator.add(8192)\n",
        "calculator.divide(2.0)\n",
        "calculator.root(-3)"
      ],
      "execution_count": null,
      "outputs": [
        {
          "output_type": "execute_result",
          "data": {
            "text/plain": [
              "0.06250000000000001"
            ]
          },
          "metadata": {},
          "execution_count": 29
        }
      ]
    },
    {
      "cell_type": "markdown",
      "metadata": {
        "id": "qhD4RRx7lZZf"
      },
      "source": [
        "To get a memory value which can be assigned to a variable, use:"
      ]
    },
    {
      "cell_type": "code",
      "metadata": {
        "id": "jEeCnUMclZ4Q"
      },
      "source": [
        "result = calculator.get_memory"
      ],
      "execution_count": null,
      "outputs": []
    },
    {
      "cell_type": "markdown",
      "metadata": {
        "id": "H935FeQ6vRe-"
      },
      "source": [
        "Hopefully you will find the calculator useful for your calculations."
      ]
    }
  ]
}