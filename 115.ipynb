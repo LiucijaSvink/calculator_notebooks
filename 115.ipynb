{
  "nbformat": 4,
  "nbformat_minor": 0,
  "metadata": {
    "kernelspec": {
      "display_name": "Python 3",
      "language": "python",
      "name": "python3"
    },
    "language_info": {
      "codemirror_mode": {
        "name": "ipython",
        "version": 3
      },
      "file_extension": ".py",
      "mimetype": "text/x-python",
      "name": "python",
      "nbconvert_exporter": "python",
      "pygments_lexer": "ipython3",
      "version": "3.7.7"
    },
    "colab": {
      "name": "115.ipynb",
      "provenance": [],
      "include_colab_link": true
    }
  },
  "cells": [
    {
      "cell_type": "markdown",
      "metadata": {
        "id": "view-in-github",
        "colab_type": "text"
      },
      "source": [
        "<a href=\"https://colab.research.google.com/github/LiucijaSvink/calculator_notebooks/blob/main/115.ipynb\" target=\"_parent\"><img src=\"https://colab.research.google.com/assets/colab-badge.svg\" alt=\"Open In Colab\"/></a>"
      ]
    },
    {
      "cell_type": "markdown",
      "metadata": {
        "id": "zdkS-xRPjrZL"
      },
      "source": [
        "# Module 1: Data Wrangling with Python\n",
        "## Sprint 1: Python Mastery\n",
        "## Part 5: Calculator\n",
        "\n",
        "Link to the repository: https://github.com/LiucijaSvink/calculator/\n"
      ]
    },
    {
      "cell_type": "markdown",
      "metadata": {
        "id": "oSa2Z-XMjrZV"
      },
      "source": [
        "## About this Part\n",
        "\n",
        "Congrats!\n",
        "You completed almost all assignments and tasks of this Sprint.\n",
        "You did a great job.\n",
        "In this Part, you will need to prove all the skills that you learned.\n",
        "As the final assignment of this Sprint, you will have to create your own Python package.\n",
        "You will have to apply all that you have learned about OOP and \"Clean Code\" concepts.\n",
        "\n",
        "## Objectives for this Part\n",
        "\n",
        "- Practice writing clean OOP-based Python code and testing it.\n",
        "- Practice creating your own Python package.\n",
        "- Understand and apply the required software license for your package.\n",
        "- Practice dealing with Python environments.\n",
        "- Practice creating and working in a Docker container.\n",
        "\n",
        "---\n",
        "\n",
        "## The calculator\n",
        "\n",
        "You will need to create a Python module and later transform it into a package.\n",
        "This module will be a calculator.\n",
        "What you should do at first is initialize a new Python package structure and create a new file that will be used as a module.\n",
        "\n",
        "## Writing tests and documentation\n",
        "\n",
        "You should also write tests that ensure that the basic functionality of the class is covered.\n",
        "Make sure that math operations returns expected results. Document your calculator class using docstrings.\n",
        "Add an explanation of the package to the README file.\n",
        "Try to be as specific as possible: include instructions on how to install the package, how to use particular methods.  \n",
        "\n",
        "---\n",
        "\n",
        "## Requirements\n",
        "\n",
        "The main package file should contain a class `Calculator` that should be able to perform these actions:  \n",
        "\n",
        "- Addition / Subtraction.\n",
        "- Multiplication / Division.\n",
        "- Take (n) root of a number.\n",
        "- Reset memory (**Calculator must have its own memory, meaning it should manipulate its starting number `0` until it is reset.**).\n",
        "\n",
        "This means that, for example, `calculator` should perform actions with a value inside its memory (for this example, the value inside the calculator's memory is `0`): `calculator.add(2)` results in `2`.\n",
        "\n",
        "Present your newly created Python package:\n",
        "\n",
        "* Make a short introduction to the repository of the package.\n",
        "* Install the package into the Google Colab's env using `pip`.\n",
        "* Showcase functionality of the created package.\n",
        "* If the bonus challenge is completed - explain how the `Dockerfile` is structured and its functionality.\n",
        "\n",
        "## Evaluation criteria\n",
        "\n",
        "1. Correct Python Package structure is initialized.\n",
        "2. Calculator module is created.\n",
        "3. Calculator class performs required actions.\n",
        "4. Tests are written.\n",
        "5. Code is written with PEP8 standards in mind.\n",
        "6. Code is well-documented.\n",
        "7. Project has an informative README file.\n",
        "8. Package is installable through `pip`.\n",
        "\n",
        "## Bonus challenge\n",
        "\n",
        "Add Dockerfile to the repository that can run your module.\n",
        "Python `3.8` environment is initialized, and the package is installed when creating the Docker container from the image.\n",
        "\n",
        "## Sample correction questions\n",
        "\n",
        "During a correction, you may get asked questions that test your understanding of covered topics.\n",
        "\n",
        "- What is Object-Oriented Programming? Select and explain two examples where using OOP concepts can improve the quality and usability of code.\n",
        "- What is \"Clean Code\"? Select four main key concepts and explain them using real-world examples.\n",
        "- Why do we need to document code? How can you do it? What should be provided inside the documentation?\n",
        "- Explain containerization. Why would you want to use one? What are the main differences between virtualization and containerization?\n"
      ]
    }
  ]
}